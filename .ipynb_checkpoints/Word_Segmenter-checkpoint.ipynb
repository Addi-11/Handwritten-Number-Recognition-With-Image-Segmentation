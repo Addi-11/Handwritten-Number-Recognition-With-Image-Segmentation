{
 "cells": [
  {
   "cell_type": "code",
   "execution_count": 1,
   "metadata": {},
   "outputs": [],
   "source": [
    "import scipy.io\n",
    "import numpy as np\n",
    "import matplotlib.pyplot as pyplot\n",
    "from PIL import Image\n",
    "import matplotlib.cm as cm\n",
    "from pprint import pprint\n",
    "import scipy.misc\n",
    "import PIL\n",
    "import KMeansUtilities as km"
   ]
  },
  {
   "cell_type": "code",
   "execution_count": 2,
   "metadata": {},
   "outputs": [],
   "source": [
    "def is_background(mat,colno):\n",
    "    row,col=mat.shape\n",
    "    for i in range(0,row):\n",
    "        if mat[i][colno]<0.9:\n",
    "            return False\n",
    "    return True"
   ]
  },
  {
   "cell_type": "code",
   "execution_count": 3,
   "metadata": {},
   "outputs": [],
   "source": [
    "def get_next_nonbackground(mat,colno):\n",
    "    row,col=mat.shape\n",
    "    for i in range(colno+1,col):\n",
    "        if is_background(mat,i)==False:\n",
    "            return i\n",
    "    return col-1\n",
    "            "
   ]
  },
  {
   "cell_type": "code",
   "execution_count": 17,
   "metadata": {},
   "outputs": [],
   "source": [
    "def get_threshold(mat):\n",
    "    diff_mat=[]\n",
    "    row,col=mat.shape\n",
    "    i=0\n",
    "    while i<col:\n",
    "        if is_background(mat,i)==True:\n",
    "            next_bac=get_next_nonbackground(mat,i)\n",
    "            diff_mat.append([next_bac-i])\n",
    "            i=next_bac\n",
    "        i+=1\n",
    "    return diff_mat\n",
    "        "
   ]
  },
  {
   "cell_type": "code",
   "execution_count": 30,
   "metadata": {},
   "outputs": [],
   "source": [
    "def get_words(mat,threshold):\n",
    "    divs=[]\n",
    "    divs.append(0)\n",
    "    row,col=mat.shape\n",
    "    for i in range(col):\n",
    "        if is_background(mat,i)==False:\n",
    "            next_bac=get_next_nonbackground(mat,i)\n",
    "            if next_bac-i>threshold:\n",
    "                divs.append(i)\n",
    "                divs.append(next_bac)\n",
    "                i=next_bac\n",
    "    divs.append(col-1)\n",
    "    return divs\n",
    "\n"
   ]
  },
  {
   "cell_type": "code",
   "execution_count": 35,
   "metadata": {},
   "outputs": [
    {
     "name": "stderr",
     "output_type": "stream",
     "text": [
      "/usr/local/lib/python2.7/dist-packages/ipykernel_launcher.py:3: DeprecationWarning: `imread` is deprecated!\n",
      "`imread` is deprecated in SciPy 1.0.0, and will be removed in 1.2.0.\n",
      "Use ``imageio.imread`` instead.\n",
      "  This is separate from the ipykernel package so we can avoid doing imports until\n"
     ]
    },
    {
     "data": {
      "image/png": "[encoded data removed]",
      "text/plain": [
       "<matplotlib.figure.Figure at 0x7f524afd09d0>"
      ]
     },
     "metadata": {},
     "output_type": "display_data"
    },
    {
     "name": "stdout",
     "output_type": "stream",
     "text": [
      "[[[29], [16], [16], [9], [11]], [[101], [191]]]\n"
     ]
    },
    {
     "data": {
      "image/png": "[encoded data removed]",
      "text/plain": [
       "<matplotlib.figure.Figure at 0x7f52487a15d0>"
      ]
     },
     "metadata": {},
     "output_type": "display_data"
    },
    {
     "data": {
      "image/png": "[encoded data removed]",
      "text/plain": [
       "<matplotlib.figure.Figure at 0x7f5248a76d50>"
      ]
     },
     "metadata": {},
     "output_type": "display_data"
    }
   ],
   "source": [
    "\n",
    "def main(filename):\n",
    "img=scipy.misc.imread(filename)\n",
    "img=img[:,:,1]\n",
    "img=img/255.0\n",
    "pyplot.imshow(img,cmap=cm.gray)\n",
    "pyplot.show()\n",
    "\n",
    "g=get_threshold(img)\n",
    "\n",
    "f=km.get_clusters(g,2)\n",
    "\n",
    "mini=999999\n",
    "for i in f[1]:\n",
    "    if i[0] <mini:\n",
    "        mini=i[0]\n",
    "\n",
    "\n",
    "\n",
    "\n",
    "d=get_words(img,threshold)\n",
    "words=[]\n",
    "for i in range(0,len(d)-1,2):\n",
    "    if d[i+1]-d[i]>0:\n",
    "        words.append(img[:,d[i]:d[i+1]+2])\n",
    "\n",
    "for i in words:\n",
    "    pyplot.imshow(i,cmap=cm.gray)\n",
    "    pyplot.show()\n",
    "     \n"
   ]
  },
  {
   "cell_type": "code",
   "execution_count": null,
   "metadata": {},
   "outputs": [],
   "source": []
  },
  {
   "cell_type": "code",
   "execution_count": null,
   "metadata": {},
   "outputs": [],
   "source": []
  }
 ],
 "metadata": {
  "kernelspec": {
   "display_name": "Python 3",
   "language": "python",
   "name": "python3"
  },
  "language_info": {
   "codemirror_mode": {
    "name": "ipython",
    "version": 2
   },
   "file_extension": ".py",
   "mimetype": "text/x-python",
   "name": "python",
   "nbconvert_exporter": "python",
   "pygments_lexer": "ipython2",
   "version": "2.7.12+"
  }
 },
 "nbformat": 4,
 "nbformat_minor": 2
}
