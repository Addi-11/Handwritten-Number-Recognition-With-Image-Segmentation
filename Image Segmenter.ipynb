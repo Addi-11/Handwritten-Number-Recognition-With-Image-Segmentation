{
 "cells": [
  {
   "cell_type": "code",
   "execution_count": 9,
   "metadata": {},
   "outputs": [],
   "source": [
    "import scipy.io\n",
    "import numpy as np\n",
    "import matplotlib.pyplot as pyplot\n",
    "from PIL import Image\n",
    "import matplotlib.cm as cm\n",
    "from pprint import pprint\n",
    "import scipy.misc\n",
    "import PIL"
   ]
  },
  {
   "cell_type": "code",
   "execution_count": 10,
   "metadata": {},
   "outputs": [],
   "source": [
    "def is_background(colno):\n",
    "    row,col=mat.shape\n",
    "    for i in range(0,row):\n",
    "        if mat[i][colno]<0.9:\n",
    "            return False\n",
    "    return True"
   ]
  },
  {
   "cell_type": "code",
   "execution_count": 11,
   "metadata": {},
   "outputs": [],
   "source": [
    "def get_matrix(col_no):\n",
    "    matrix=[]\n",
    "    row,col=mat.shape\n",
    "    for i in range(col_no,col):\n",
    "        if is_background(i)==False:\n",
    "            z=mat[:,i]\n",
    "            matrix.append(z)\n",
    "        else:\n",
    "            break\n",
    "    matrix=np.matrix(matrix)\n",
    "    matrix=np.transpose(matrix)\n",
    "    pyplot.imshow(matrix,cmap=cm.gray)\n",
    "    pyplot.show()\n",
    "    image_arr.append(matrix.tolist())\n",
    "    return i"
   ]
  },
  {
   "cell_type": "code",
   "execution_count": 12,
   "metadata": {},
   "outputs": [],
   "source": [
    "def get_char_img():\n",
    "    row,col=mat.shape\n",
    "    col_no=0\n",
    "    curr_col=0\n",
    "    while True:\n",
    "        for i in range(curr_col,col):\n",
    "            found=is_background(i)\n",
    "            if found==False:\n",
    "                col_no=i\n",
    "                break\n",
    "        if i==col-1:\n",
    "            break\n",
    "        else:\n",
    "            curr_col=get_matrix(col_no)\n",
    "        "
   ]
  },
  {
   "cell_type": "code",
   "execution_count": 33,
   "metadata": {},
   "outputs": [],
   "source": [
    "def process_image():\n",
    "    img=scipy.misc.imread('conv.png')\n",
    "    img=img[:,:,0]\n",
    "    img=img/255.0\n",
    "    pyplot.imshow(img,cmap=cm.gray)\n",
    "    pyplot.show()\n",
    "    return img"
   ]
  },
  {
   "cell_type": "code",
   "execution_count": 34,
   "metadata": {},
   "outputs": [],
   "source": [
    "def get_cropped_image(image):\n",
    "    new_img=[]\n",
    "    for i in image:\n",
    "        x=True\n",
    "        for j in i:\n",
    "            if j<0.5:\n",
    "                x=False\n",
    "                break\n",
    "        if x==False:\n",
    "            new_img.append(i)\n",
    "    image=np.matrix(new_img)\n",
    "    \n",
    "    row,col=image.shape\n",
    "    image=image.tolist()\n",
    "    for i in range(row):\n",
    "        for j in range(10):\n",
    "            image[i].insert(0,1)\n",
    "        for j in range(10):\n",
    "            image[i].append(1)\n",
    "    row=len(image)\n",
    "    col=len(image[0])\n",
    "    \n",
    "    for j in range(10):\n",
    "        image.append([1.0 for i in range(col)])\n",
    "    for j in range(10):\n",
    "        image.insert(0,[1.0 for i in range(col)])\n",
    "    row=len(image)\n",
    "    col=len(image[0])\n",
    "    if row>col:\n",
    "        diff=row-col\n",
    "        front=int(diff/2)\n",
    "        back=diff-front\n",
    "        for i in range(row):\n",
    "            for j in range(back):\n",
    "                image[i].append(1)\n",
    "            for j in range(front):\n",
    "                image[i].insert(0,1)\n",
    "            \n",
    "    return image\n",
    "    "
   ]
  },
  {
   "cell_type": "markdown",
   "metadata": {},
   "source": [
    "# SEGMENTED IMAGE PADDING FUNCTION"
   ]
  },
  {
   "cell_type": "code",
   "execution_count": 35,
   "metadata": {},
   "outputs": [],
   "source": [
    "def pad_image_and_resize(image):\n",
    "    image_crop=get_cropped_image(image)\n",
    "    baseheight = 20\n",
    "    scipy.misc.imsave('temp.jpg', np.matrix(image_crop))\n",
    "    img=Image.open('temp.jpg')\n",
    "    hpercent = (baseheight / float(img.size[1]))\n",
    "    wsize = int((float(img.size[0]) * float(hpercent)))\n",
    "    img = img.resize((wsize, baseheight), PIL.Image.ANTIALIAS)\n",
    "    \n",
    "    #pyplot.imshow(np.matrix(img),cmap=cm.gray)\n",
    "    #pyplot.show()\n",
    "    return img\n",
    "    "
   ]
  },
  {
   "cell_type": "code",
   "execution_count": 36,
   "metadata": {},
   "outputs": [
    {
     "name": "stderr",
     "output_type": "stream",
     "text": [
      "/usr/local/lib/python2.7/dist-packages/ipykernel_launcher.py:2: DeprecationWarning: `imread` is deprecated!\n",
      "`imread` is deprecated in SciPy 1.0.0, and will be removed in 1.2.0.\n",
      "Use ``imageio.imread`` instead.\n",
      "  \n"
     ]
    },
    {
     "data": {
      "image/png": "[encoded data removed]",
      "text/plain": [
       "<matplotlib.figure.Figure at 0x7f0c8531d750>"
      ]
     },
     "metadata": {},
     "output_type": "display_data"
    },
    {
     "data": {
      "image/png": "[encoded data removed]",
      "text/plain": [
       "<matplotlib.figure.Figure at 0x7f0c841fce10>"
      ]
     },
     "metadata": {},
     "output_type": "display_data"
    },
    {
     "data": {
      "image/png": "[encoded data removed]",
      "text/plain": [
       "<matplotlib.figure.Figure at 0x7f0c8402a5d0>"
      ]
     },
     "metadata": {},
     "output_type": "display_data"
    },
    {
     "data": {
      "image/png": "[encoded data removed]",
      "text/plain": [
       "<matplotlib.figure.Figure at 0x7f0c7f424f90>"
      ]
     },
     "metadata": {},
     "output_type": "display_data"
    },
    {
     "name": "stderr",
     "output_type": "stream",
     "text": [
      "/usr/local/lib/python2.7/dist-packages/ipykernel_launcher.py:4: DeprecationWarning: `imsave` is deprecated!\n",
      "`imsave` is deprecated in SciPy 1.0.0, and will be removed in 1.2.0.\n",
      "Use ``imageio.imwrite`` instead.\n",
      "  after removing the cwd from sys.path.\n"
     ]
    }
   ],
   "source": [
    "img=process_image()\n",
    "image_arr=[]\n",
    "mat=img\n",
    "get_char_img()\n",
    "arr=[]\n",
    "for i in range(len(image_arr)):\n",
    "    arr.append(pad_image_and_resize(image_arr[i]))"
   ]
  },
  {
   "cell_type": "code",
   "execution_count": null,
   "metadata": {},
   "outputs": [],
   "source": []
  }
 ],
 "metadata": {
  "kernelspec": {
   "display_name": "Python 3",
   "language": "python",
   "name": "python3"
  },
  "language_info": {
   "codemirror_mode": {
    "name": "ipython",
    "version": 2
   },
   "file_extension": ".py",
   "mimetype": "text/x-python",
   "name": "python",
   "nbconvert_exporter": "python",
   "pygments_lexer": "ipython2",
   "version": "2.7.12+"
  }
 },
 "nbformat": 4,
 "nbformat_minor": 2
}
