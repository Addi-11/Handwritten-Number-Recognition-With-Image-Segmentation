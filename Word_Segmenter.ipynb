{
 "cells": [
  {
   "cell_type": "code",
   "execution_count": 3,
   "metadata": {},
   "outputs": [],
   "source": [
    "import scipy.io\n",
    "import numpy as np\n",
    "import matplotlib.pyplot as pyplot\n",
    "from PIL import Image\n",
    "import matplotlib.cm as cm\n",
    "from pprint import pprint\n",
    "import scipy.misc\n",
    "import PIL"
   ]
  },
  {
   "cell_type": "code",
   "execution_count": 4,
   "metadata": {},
   "outputs": [],
   "source": [
    "def is_background(mat,colno):\n",
    "    row,col=mat.shape\n",
    "    for i in range(0,row):\n",
    "        if mat[i][colno]<0.9:\n",
    "            return False\n",
    "    return True"
   ]
  },
  {
   "cell_type": "code",
   "execution_count": 23,
   "metadata": {},
   "outputs": [],
   "source": [
    "def get_next_nonbackground(mat,colno):\n",
    "    row,col=mat.shape\n",
    "    for i in range(colno+1,col):\n",
    "        if is_background(mat,i)==False:\n",
    "            return i\n",
    "    return col-1\n",
    "            "
   ]
  },
  {
   "cell_type": "code",
   "execution_count": 24,
   "metadata": {},
   "outputs": [
    {
     "name": "stderr",
     "output_type": "stream",
     "text": [
      "/usr/local/lib/python2.7/dist-packages/ipykernel_launcher.py:10: DeprecationWarning: `imread` is deprecated!\n",
      "`imread` is deprecated in SciPy 1.0.0, and will be removed in 1.2.0.\n",
      "Use ``imageio.imread`` instead.\n",
      "  # Remove the CWD from sys.path while we load stuff.\n"
     ]
    },
    {
     "data": {
      "image/png": "[encoded data removed]",
      "text/plain": [
       "<matplotlib.figure.Figure at 0x7f200ea3fd90>"
      ]
     },
     "metadata": {},
     "output_type": "display_data"
    },
    {
     "name": "stdout",
     "output_type": "stream",
     "text": [
      "(163, 265)\n",
      "(447, 639)\n"
     ]
    }
   ],
   "source": [
    "def get_words(mat):\n",
    "    row,col=mat.shape\n",
    "    for i in range(col):\n",
    "        if is_background(mat,i)==False:\n",
    "            next_bac=get_next_nonbackground(mat,i)\n",
    "            if next_bac-i>threshold:\n",
    "                print(i,next_bac)\n",
    "\n",
    "threshold=60   \n",
    "img=scipy.misc.imread('tempo.png')\n",
    "img=img[:,:,1]\n",
    "img=img/255.0\n",
    "pyplot.imshow(img,cmap=cm.gray)\n",
    "pyplot.show()\n",
    "get_words(img)\n",
    "        \n",
    "    "
   ]
  },
  {
   "cell_type": "code",
   "execution_count": null,
   "metadata": {},
   "outputs": [],
   "source": []
  }
 ],
 "metadata": {
  "kernelspec": {
   "display_name": "Python 3",
   "language": "python",
   "name": "python3"
  },
  "language_info": {
   "codemirror_mode": {
    "name": "ipython",
    "version": 2
   },
   "file_extension": ".py",
   "mimetype": "text/x-python",
   "name": "python",
   "nbconvert_exporter": "python",
   "pygments_lexer": "ipython2",
   "version": "2.7.12+"
  }
 },
 "nbformat": 4,
 "nbformat_minor": 2
}
