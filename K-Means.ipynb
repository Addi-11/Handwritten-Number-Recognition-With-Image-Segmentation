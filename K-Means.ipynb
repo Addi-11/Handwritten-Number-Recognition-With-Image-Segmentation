{
 "cells": [
  {
   "cell_type": "code",
   "execution_count": 23,
   "metadata": {},
   "outputs": [],
   "source": [
    "from sklearn.cluster import KMeans"
   ]
  },
  {
   "cell_type": "code",
   "execution_count": 28,
   "metadata": {},
   "outputs": [],
   "source": [
    "def get_clusters(points,k):\n",
    "    kmeans = KMeans(n_clusters=2, random_state=0).fit(points)\n",
    "    n=kmeans.labels_\n",
    "    clusters=[[]for i in range(k)]\n",
    "    for i in range(len(n)):\n",
    "        clusters[n[i]].append(points[i])\n",
    "    return clusters"
   ]
  },
  {
   "cell_type": "code",
   "execution_count": 29,
   "metadata": {},
   "outputs": [
    {
     "name": "stdout",
     "output_type": "stream",
     "text": [
      "[[[2.0], [4.0], [10.0], [6.0], [11.0], [9.0]], [[40.0], [45.0]]]\n"
     ]
    }
   ],
   "source": [
    "p=[[2.0],[4.0],[10.0],[6.0],[11.0],[40.0],[45.0],[9.0]]\n",
    "print(get_clusters(p,2))"
   ]
  },
  {
   "cell_type": "code",
   "execution_count": null,
   "metadata": {},
   "outputs": [],
   "source": []
  }
 ],
 "metadata": {
  "kernelspec": {
   "display_name": "Python 2",
   "language": "python",
   "name": "python2"
  },
  "language_info": {
   "codemirror_mode": {
    "name": "ipython",
    "version": 2
   },
   "file_extension": ".py",
   "mimetype": "text/x-python",
   "name": "python",
   "nbconvert_exporter": "python",
   "pygments_lexer": "ipython2",
   "version": "2.7.12+"
  }
 },
 "nbformat": 4,
 "nbformat_minor": 2
}
